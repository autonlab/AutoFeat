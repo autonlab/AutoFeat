{
 "cells": [
  {
   "attachments": {},
   "cell_type": "markdown",
   "metadata": {},
   "source": [
    "# Getting Started"
   ]
  },
  {
   "attachments": {},
   "cell_type": "markdown",
   "metadata": {},
   "source": [
    "Lorem ipsum dolor sit amet, consectetur adipiscing elit, sed do eiusmod tempor incididunt ut labore et dolore magna aliqua. Ut enim ad minim veniam, quis nostrud exercitation ullamco laboris nisi ut aliquip ex ea commodo consequat. Duis aute irure dolor in reprehenderit in voluptate velit esse cillum dolore eu fugiat nulla pariatur. Excepteur sint occaecat cupidatat non proident, sunt in culpa qui officia deserunt mollit anim id est laborum"
   ]
  },
  {
   "attachments": {},
   "cell_type": "markdown",
   "metadata": {},
   "source": [
    "Tutorials Contents:\n",
    "\n",
    "- Installing\n",
    "- Loading data\n",
    "- Feature extraction\n",
    "- Fitting a model\n",
    "- Evaluating the model"
   ]
  },
  {
   "attachments": {},
   "cell_type": "markdown",
   "metadata": {},
   "source": [
    "<a href=\"https://colab.research.google.com/github/autonlab/AutoFeat/blob/main/examples/tutorials/GettingStarted.ipynb\" target=\"_parent\"><img src=\"https://colab.research.google.com/assets/colab-badge.svg\" alt=\"Open In Colab\"/></a>"
   ]
  },
  {
   "attachments": {},
   "cell_type": "markdown",
   "metadata": {},
   "source": [
    "# Install Packages"
   ]
  },
  {
   "cell_type": "code",
   "execution_count": 1,
   "metadata": {},
   "outputs": [
    {
     "name": "stdout",
     "output_type": "stream",
     "text": [
      "Collecting git+https://github.com/autonlab/AutoFeat.git\n",
      "  Cloning https://github.com/autonlab/AutoFeat.git to /private/var/folders/jd/zrp3w06x0fd5jk9bmx64ty580000gn/T/pip-req-build-z9j5fulz\n",
      "  Running command git clone -q https://github.com/autonlab/AutoFeat.git /private/var/folders/jd/zrp3w06x0fd5jk9bmx64ty580000gn/T/pip-req-build-z9j5fulz\n",
      "\u001b[31m    ERROR: Command errored out with exit status 1:\n",
      "     command: /Users/dhruvsrikanth/Work/CMU/AutoFeat/.venv_test/bin/python -c 'import io, os, sys, setuptools, tokenize; sys.argv[0] = '\"'\"'/private/var/folders/jd/zrp3w06x0fd5jk9bmx64ty580000gn/T/pip-req-build-z9j5fulz/setup.py'\"'\"'; __file__='\"'\"'/private/var/folders/jd/zrp3w06x0fd5jk9bmx64ty580000gn/T/pip-req-build-z9j5fulz/setup.py'\"'\"';f = getattr(tokenize, '\"'\"'open'\"'\"', open)(__file__) if os.path.exists(__file__) else io.StringIO('\"'\"'from setuptools import setup; setup()'\"'\"');code = f.read().replace('\"'\"'\\r\\n'\"'\"', '\"'\"'\\n'\"'\"');f.close();exec(compile(code, __file__, '\"'\"'exec'\"'\"'))' egg_info --egg-base /private/var/folders/jd/zrp3w06x0fd5jk9bmx64ty580000gn/T/pip-pip-egg-info-hog047e2\n",
      "         cwd: /private/var/folders/jd/zrp3w06x0fd5jk9bmx64ty580000gn/T/pip-req-build-z9j5fulz/\n",
      "    Complete output (7 lines):\n",
      "    Traceback (most recent call last):\n",
      "      File \"<string>\", line 1, in <module>\n",
      "      File \"/private/var/folders/jd/zrp3w06x0fd5jk9bmx64ty580000gn/T/pip-req-build-z9j5fulz/setup.py\", line 4, in <module>\n",
      "        setup_properties = SetupProperties()\n",
      "      File \"/private/var/folders/jd/zrp3w06x0fd5jk9bmx64ty580000gn/T/pip-req-build-z9j5fulz/autofeat/__init__.py\", line 63, in __init__\n",
      "        self.description = os.read('README.md')\n",
      "    TypeError: read expected 2 arguments, got 1\n",
      "    ----------------------------------------\u001b[0m\n",
      "\u001b[33mWARNING: Discarding git+https://github.com/autonlab/AutoFeat.git. Command errored out with exit status 1: python setup.py egg_info Check the logs for full command output.\u001b[0m\n",
      "\u001b[31mERROR: Command errored out with exit status 1: python setup.py egg_info Check the logs for full command output.\u001b[0m\n",
      "\u001b[33mWARNING: You are using pip version 21.1.3; however, version 23.1.2 is available.\n",
      "You should consider upgrading via the '/Users/dhruvsrikanth/Work/CMU/AutoFeat/.venv_test/bin/python -m pip install --upgrade pip' command.\u001b[0m\n"
     ]
    }
   ],
   "source": [
    "!pip install git+https://github.com/autonlab/AutoFeat.git"
   ]
  },
  {
   "attachments": {},
   "cell_type": "markdown",
   "metadata": {},
   "source": [
    "# Load Dataset"
   ]
  },
  {
   "attachments": {},
   "cell_type": "markdown",
   "metadata": {},
   "source": [
    "# Feature Extraction"
   ]
  },
  {
   "attachments": {},
   "cell_type": "markdown",
   "metadata": {},
   "source": [
    "# Fit Model"
   ]
  },
  {
   "attachments": {},
   "cell_type": "markdown",
   "metadata": {},
   "source": [
    "# Evaluate Model"
   ]
  },
  {
   "attachments": {},
   "cell_type": "markdown",
   "metadata": {},
   "source": []
  }
 ],
 "metadata": {
  "kernelspec": {
   "display_name": ".venv_test",
   "language": "python",
   "name": "python3"
  },
  "language_info": {
   "codemirror_mode": {
    "name": "ipython",
    "version": 3
   },
   "file_extension": ".py",
   "mimetype": "text/x-python",
   "name": "python",
   "nbconvert_exporter": "python",
   "pygments_lexer": "ipython3",
   "version": "3.9.6"
  },
  "orig_nbformat": 4
 },
 "nbformat": 4,
 "nbformat_minor": 2
}
