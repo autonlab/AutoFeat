{
 "cells": [
  {
   "attachments": {},
   "cell_type": "markdown",
   "metadata": {},
   "source": [
    "# Single Feature Extraction"
   ]
  },
  {
   "attachments": {},
   "cell_type": "markdown",
   "metadata": {},
   "source": [
    "In this tutorial we will show you how to install and use the `AutonFeat` package for single-feature extraction. We apply the package to the problem of ***time-series forecasting*** i.e. using past values of a time-series to predict future values."
   ]
  },
  {
   "attachments": {},
   "cell_type": "markdown",
   "metadata": {},
   "source": [
    "Feel free to follow along in this Google Colab notebook - \n",
    "\n",
    "<a href=\"https://colab.research.google.com/github/autonlab/AutonFeat/blob/main/examples/tutorials/single_feature_extraction.ipynb\" target=\"_parent\"><img src=\"https://colab.research.google.com/assets/colab-badge.svg\" alt=\"Open In Colab\"/></a>"
   ]
  },
  {
   "attachments": {},
   "cell_type": "markdown",
   "metadata": {},
   "source": [
    "## Install Packages"
   ]
  },
  {
   "cell_type": "code",
   "execution_count": null,
   "metadata": {},
   "outputs": [],
   "source": [
    "%%capture\n",
    "!pip install git+https://github.com/autonlab/AutonFeat.git"
   ]
  },
  {
   "cell_type": "code",
   "execution_count": null,
   "metadata": {},
   "outputs": [],
   "source": [
    "%%capture\n",
    "!git clone \"https://github.com/autonlab/AutonFeat.git\"\n",
    "import sys\n",
    "sys.path.append(\"AutonFeat\")"
   ]
  },
  {
   "cell_type": "code",
   "execution_count": null,
   "metadata": {},
   "outputs": [],
   "source": [
    "import autonfeat as aft\n",
    "import numpy as np\n",
    "import pandas as pd"
   ]
  },
  {
   "attachments": {},
   "cell_type": "markdown",
   "metadata": {},
   "source": [
    "## Load Dataset"
   ]
  },
  {
   "attachments": {},
   "cell_type": "markdown",
   "metadata": {},
   "source": [
    "List available datasets that we can use for this tutorial:"
   ]
  },
  {
   "cell_type": "code",
   "execution_count": null,
   "metadata": {},
   "outputs": [],
   "source": [
    "print(aft.utils.datasets.list_datasets())"
   ]
  },
  {
   "attachments": {},
   "cell_type": "markdown",
   "metadata": {},
   "source": [
    "Load the ***Airline Passengers*** dataset:"
   ]
  },
  {
   "cell_type": "code",
   "execution_count": null,
   "metadata": {},
   "outputs": [],
   "source": [
    "air_passengers_df = aft.utils.datasets.get_dataset(name='airline passengers')\n",
    "air_passengers_df['datestamp'] = pd.to_datetime(air_passengers_df['datestamp'])\n",
    "air_passengers_df.drop(columns=['uid'], inplace=True)\n",
    "air_passengers_df.head()"
   ]
  },
  {
   "attachments": {},
   "cell_type": "markdown",
   "metadata": {},
   "source": [
    "Plot the time-series (it is often useful to visualize the data before we start modeling):"
   ]
  },
  {
   "cell_type": "code",
   "execution_count": null,
   "metadata": {},
   "outputs": [],
   "source": [
    "import matplotlib.pyplot as plt\n",
    "\n",
    "fig, ax = plt.subplots(1, 1, figsize = (10, 5))\n",
    "plot_df = air_passengers_df.set_index('datestamp')\n",
    "\n",
    "plot_df[['passengers']].plot(ax=ax, linewidth=2)\n",
    "ax.set_title('Airline Passengers Forecast', fontsize=22)\n",
    "ax.set_ylabel('Monthly Passengers', fontsize=20)\n",
    "ax.set_xlabel('Timestamp (t)', fontsize=20)\n",
    "ax.legend(prop={'size': 15})\n",
    "ax.grid()"
   ]
  },
  {
   "attachments": {},
   "cell_type": "markdown",
   "metadata": {},
   "source": [
    "## Preprocess Data"
   ]
  },
  {
   "attachments": {},
   "cell_type": "markdown",
   "metadata": {},
   "source": [
    "We can compute lag features using the preprocessing library from `AutonFeat`. This is often useful for time-series forecasting problems. We can combine this with feature extraction of summary statistics to create a rich set of features for our model (we will see this in the next section)."
   ]
  },
  {
   "cell_type": "code",
   "execution_count": null,
   "metadata": {},
   "outputs": [],
   "source": [
    "# Define the number of lagged values to include as features\n",
    "lags = [1, 2, 3]\n",
    "\n",
    "preprocessor = aft.preprocess.LagPreprocessor()\n",
    "\n",
    "# Create lagged features\n",
    "for lag in lags:\n",
    "    air_passengers_df[f'passengers_lag{lag}'] = preprocessor(air_passengers_df['passengers'].values, lag=lag)"
   ]
  },
  {
   "attachments": {},
   "cell_type": "markdown",
   "metadata": {},
   "source": [
    "## Feature Extraction"
   ]
  },
  {
   "attachments": {},
   "cell_type": "markdown",
   "metadata": {},
   "source": [
    "Set the parameters of the sliding window to perform feature extraction:\n",
    "\n",
    "- `window_size`: the size of the sliding window\n",
    "- `step_size`: the stride of the sliding window\n",
    "- `overflow`: what to do with the last window if it is smaller than `window_size`\n",
    "\n",
    "In this case, we choose to use the `stop` overflow strategy which means that we will stop the sliding window if the last window is smaller than `window_size`."
   ]
  },
  {
   "cell_type": "code",
   "execution_count": null,
   "metadata": {},
   "outputs": [],
   "source": [
    "# Sliding Window\n",
    "window_size = 12\n",
    "step_size = 1\n",
    "sliding_window = aft.SlidingWindow(window_size=window_size, step_size=step_size, overflow='stop')"
   ]
  },
  {
   "attachments": {},
   "cell_type": "markdown",
   "metadata": {},
   "source": [
    "Define the feature we want to extract from the time-series. Here we will be considering the ***mean*** of the time-series values in each window. For a particular window of size $w$, the mean is defined as:\n",
    "\n",
    "$$\n",
    "\\text{mean} = \\frac{1}{w} \\sum_{i=1}^{w} x_i\n",
    "$$\n",
    "\n",
    "where $x_i$ is the value of the time-series at time $i$."
   ]
  },
  {
   "cell_type": "code",
   "execution_count": null,
   "metadata": {},
   "outputs": [],
   "source": [
    "feature_extractor = aft.MeanTransform()\n",
    "featurizer = sliding_window.use(feature_extractor)\n",
    "features = featurizer(air_passengers_df['passengers'].values)\n",
    "\n",
    "# We add NaNs to the end of the array to make it the same length of the original array\n",
    "features = np.append(features, np.repeat(np.nan, len(air_passengers_df) - len(features)))\n",
    "\n",
    "# Add the features to the dataframe\n",
    "air_passengers_df['passengers_mean'] = features"
   ]
  },
  {
   "attachments": {},
   "cell_type": "markdown",
   "metadata": {},
   "source": [
    "Here is what our data looks like after *preprocessing* and *feature extraction*:"
   ]
  },
  {
   "cell_type": "code",
   "execution_count": null,
   "metadata": {},
   "outputs": [],
   "source": [
    "air_passengers_df.head()"
   ]
  },
  {
   "attachments": {},
   "cell_type": "markdown",
   "metadata": {},
   "source": [
    "Lets see what the ***mean*** feature looks like:"
   ]
  },
  {
   "cell_type": "code",
   "execution_count": null,
   "metadata": {},
   "outputs": [],
   "source": [
    "# Plot the mean feature with the original data\n",
    "fig, ax = plt.subplots(1, 1, figsize = (10, 5))\n",
    "plot_df = air_passengers_df.set_index('datestamp')\n",
    "\n",
    "plot_df[['passengers', 'passengers_mean']].plot(ax=ax, linewidth=2)\n",
    "ax.set_title('Airline Passengers Forecast', fontsize=22)\n",
    "ax.set_ylabel('Monthly Passengers', fontsize=20)\n",
    "ax.set_xlabel('Timestamp (t)', fontsize=20)\n",
    "ax.legend(prop={'size': 15})\n",
    "ax.grid()"
   ]
  },
  {
   "attachments": {},
   "cell_type": "markdown",
   "metadata": {},
   "source": [
    "Feature extraction often results in a decrease in the number of data points. In our case, we chose to handle *overflow* using the `stop` strategy as specified in the `SlidingWindow`. We can see this reduction in the number of data points below:"
   ]
  },
  {
   "cell_type": "code",
   "execution_count": null,
   "metadata": {},
   "outputs": [],
   "source": [
    "# Drop rows with missing values due to the lag\n",
    "print(f'Dataframe contained {air_passengers_df.shape[0]} samples')\n",
    "air_passengers_df.dropna(inplace=True)\n",
    "print(f'Dataframe now contains {air_passengers_df.shape[0]} samples')"
   ]
  },
  {
   "attachments": {},
   "cell_type": "markdown",
   "metadata": {},
   "source": [
    "Finally, we split our data into training and test sets."
   ]
  },
  {
   "cell_type": "code",
   "execution_count": null,
   "metadata": {},
   "outputs": [],
   "source": [
    "from sklearn.model_selection import train_test_split\n",
    "\n",
    "# Split the data into train and test sets\n",
    "train_df, test_df = train_test_split(air_passengers_df, test_size=0.2, shuffle=False)\n",
    "\n",
    "# Define the target variable\n",
    "target = 'passengers'\n",
    "\n",
    "# Define the features to use\n",
    "features = ['passengers_lag1', 'passengers_lag2', 'passengers_lag3', 'passengers_mean']\n",
    "\n",
    "# Create the feature matrix and target vector\n",
    "X_train = train_df[features].values\n",
    "y_train = train_df[target].values.reshape(-1, 1)\n",
    "\n",
    "X_test = test_df[features].values\n",
    "y_test = test_df[target].values.reshape(-1, 1)\n",
    "\n",
    "print('Training set sizes - ', X_train.shape, y_train.shape)\n",
    "print('Test set sizes - ', X_test.shape, y_test.shape)"
   ]
  },
  {
   "attachments": {},
   "cell_type": "markdown",
   "metadata": {},
   "source": [
    "## Fit Model"
   ]
  },
  {
   "attachments": {},
   "cell_type": "markdown",
   "metadata": {},
   "source": [
    "We will be using an autoregressive model for time series forecasting. Autoregressive models are a class of models that use past values to predict future values, then use the predicted values to predict even further into the future. One of the simplest autoregressive models is a linear regression model. We will be using the `LinearRegression` class from `sklearn` to fit a linear regression model to our data."
   ]
  },
  {
   "cell_type": "code",
   "execution_count": null,
   "metadata": {},
   "outputs": [],
   "source": [
    "%%capture\n",
    "from sklearn.linear_model import LinearRegression\n",
    "\n",
    "# Fit a linear regression model\n",
    "model = LinearRegression()\n",
    "model.fit(X_train, y_train)"
   ]
  },
  {
   "attachments": {},
   "cell_type": "markdown",
   "metadata": {},
   "source": [
    "## Evaluate Model"
   ]
  },
  {
   "attachments": {},
   "cell_type": "markdown",
   "metadata": {},
   "source": [
    "Remember that we adjusted the target values when we performed feature extraction? Well we can now use the remaining data points to evaluate our model. We will be using the ***mean absolute error*** (MAE) as our evaluation metric. The MAE is defined as:\n",
    "\n",
    "$$\n",
    "\\text{MAE} = \\frac{1}{n} \\sum_{i=1}^{n} |y_i - \\hat{y}_i|\n",
    "$$\n",
    "\n",
    "where $y_i$ is the actual value of the time-series at time $i$ and $\\hat{y}_i$ is the predicted value of the time-series at time $i$."
   ]
  },
  {
   "cell_type": "code",
   "execution_count": null,
   "metadata": {},
   "outputs": [],
   "source": [
    "from sklearn.metrics import mean_absolute_error\n",
    "\n",
    "# Predict on the test set\n",
    "y_pred = model.predict(X_test)"
   ]
  },
  {
   "attachments": {},
   "cell_type": "markdown",
   "metadata": {},
   "source": [
    "We can evaluate the results both quantitatively and qualitatively. First, lets look at the MAE:"
   ]
  },
  {
   "cell_type": "code",
   "execution_count": null,
   "metadata": {},
   "outputs": [],
   "source": [
    "# Evaluate the model\n",
    "mae = mean_absolute_error(y_test, y_pred)\n",
    "print(f'Mean Absolute Error: {mae:.2f}')"
   ]
  },
  {
   "attachments": {},
   "cell_type": "markdown",
   "metadata": {},
   "source": [
    "Next lets plot the actual values of the time-series against the predicted values:"
   ]
  },
  {
   "cell_type": "code",
   "execution_count": null,
   "metadata": {},
   "outputs": [],
   "source": [
    "fig, ax = plt.subplots(1, 1, figsize = (10, 5))\n",
    "plot_df = test_df.set_index('datestamp')\n",
    "plot_df['passengers_pred'] = y_pred\n",
    "\n",
    "plot_df[['passengers', 'passengers_pred']].plot(ax=ax, linewidth=2)\n",
    "ax.set_title('Airline Passengers Forecast', fontsize=22)\n",
    "ax.set_ylabel('Monthly Passengers', fontsize=20)\n",
    "ax.set_xlabel('Timestamp (t)', fontsize=20)\n",
    "ax.legend(prop={'size': 15})\n",
    "ax.grid()\n"
   ]
  },
  {
   "attachments": {},
   "cell_type": "markdown",
   "metadata": {},
   "source": [
    "Here is what it looks like with respect to the original time-series:"
   ]
  },
  {
   "cell_type": "code",
   "execution_count": null,
   "metadata": {},
   "outputs": [],
   "source": [
    "# Plot the training and test sets\n",
    "fig, ax = plt.subplots(1, 1, figsize = (10, 5))\n",
    "test_df['passengers_pred'] = y_pred\n",
    "plot_df = pd.concat([train_df, test_df]).set_index('datestamp')\n",
    "\n",
    "plot_df[['passengers', 'passengers_pred']].plot(ax=ax, linewidth=2)\n",
    "ax.set_title('Airline Passengers Forecast', fontsize=22)\n",
    "ax.set_ylabel('Monthly Passengers', fontsize=20)\n",
    "ax.set_xlabel('Timestamp (t)', fontsize=20)\n",
    "ax.legend(prop={'size': 15})\n",
    "ax.grid()\n"
   ]
  },
  {
   "attachments": {},
   "cell_type": "markdown",
   "metadata": {},
   "source": [
    "If you enjoy using `AutonFeat`, please consider starring the [repository](https://github.com/autonlab/AutonFeat) ⭐️."
   ]
  }
 ],
 "metadata": {
  "kernelspec": {
   "display_name": ".venv_test",
   "language": "python",
   "name": "python3"
  },
  "language_info": {
   "codemirror_mode": {
    "name": "ipython",
    "version": 3
   },
   "file_extension": ".py",
   "mimetype": "text/x-python",
   "name": "python",
   "nbconvert_exporter": "python",
   "pygments_lexer": "ipython3",
   "version": "3.9.6"
  },
  "orig_nbformat": 4
 },
 "nbformat": 4,
 "nbformat_minor": 2
}
