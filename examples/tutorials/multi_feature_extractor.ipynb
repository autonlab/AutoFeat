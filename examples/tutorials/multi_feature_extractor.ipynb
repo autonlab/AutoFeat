{
 "cells": [
  {
   "attachments": {},
   "cell_type": "markdown",
   "metadata": {},
   "source": [
    "# Setup"
   ]
  },
  {
   "cell_type": "code",
   "execution_count": 2,
   "metadata": {},
   "outputs": [
    {
     "name": "stdout",
     "output_type": "stream",
     "text": [
      "Cloning into 'AutoFeat'...\n",
      "remote: Enumerating objects: 1082, done.\u001b[K\n",
      "remote: Counting objects: 100% (1082/1082), done.\u001b[K\n",
      "remote: Compressing objects: 100% (375/375), done.\u001b[K\n",
      "remote: Total 1082 (delta 738), reused 1032 (delta 688), pack-reused 0\u001b[K\n",
      "Receiving objects: 100% (1082/1082), 132.58 KiB | 5.10 MiB/s, done.\n",
      "Resolving deltas: 100% (738/738), done.\n",
      "Requirement already satisfied: exceptiongroup>=1.1.1 in /Users/dhruvsrikanth/Work/CMU/AutoFeat/.venv_test/lib/python3.9/site-packages (from -r ./AutoFeat/requirements.txt (line 1)) (1.1.1)\n",
      "Requirement already satisfied: iniconfig>=2.0.0 in /Users/dhruvsrikanth/Work/CMU/AutoFeat/.venv_test/lib/python3.9/site-packages (from -r ./AutoFeat/requirements.txt (line 2)) (2.0.0)\n",
      "Requirement already satisfied: numpy>=1.24.3 in /Users/dhruvsrikanth/Work/CMU/AutoFeat/.venv_test/lib/python3.9/site-packages (from -r ./AutoFeat/requirements.txt (line 3)) (1.24.3)\n",
      "Requirement already satisfied: packaging>=23.1 in /Users/dhruvsrikanth/Work/CMU/AutoFeat/.venv_test/lib/python3.9/site-packages (from -r ./AutoFeat/requirements.txt (line 4)) (23.1)\n",
      "Requirement already satisfied: pluggy>=1.0.0 in /Users/dhruvsrikanth/Work/CMU/AutoFeat/.venv_test/lib/python3.9/site-packages (from -r ./AutoFeat/requirements.txt (line 5)) (1.0.0)\n",
      "Requirement already satisfied: pytest>=7.3.1 in /Users/dhruvsrikanth/Work/CMU/AutoFeat/.venv_test/lib/python3.9/site-packages (from -r ./AutoFeat/requirements.txt (line 6)) (7.3.1)\n",
      "Requirement already satisfied: tomli>=2.0.1 in /Users/dhruvsrikanth/Work/CMU/AutoFeat/.venv_test/lib/python3.9/site-packages (from -r ./AutoFeat/requirements.txt (line 7)) (2.0.1)\n",
      "Requirement already satisfied: typing>=3.7.4.3 in /Users/dhruvsrikanth/Work/CMU/AutoFeat/.venv_test/lib/python3.9/site-packages (from -r ./AutoFeat/requirements.txt (line 8)) (3.7.4.3)\n",
      "\u001b[33mWARNING: You are using pip version 21.1.3; however, version 23.1.2 is available.\n",
      "You should consider upgrading via the '/Users/dhruvsrikanth/Work/CMU/AutoFeat/.venv_test/bin/python -m pip install --upgrade pip' command.\u001b[0m\n"
     ]
    }
   ],
   "source": [
    "!git clone https://github.com/autonlab/AutoFeat\n",
    "!python -m pip install -r ./AutoFeat/requirements.txt"
   ]
  },
  {
   "cell_type": "code",
   "execution_count": 3,
   "metadata": {},
   "outputs": [],
   "source": [
    "import sys\n",
    "sys.path.append('AutoFeat')"
   ]
  },
  {
   "attachments": {},
   "cell_type": "markdown",
   "metadata": {},
   "source": [
    "# Import Libraries"
   ]
  },
  {
   "cell_type": "code",
   "execution_count": 11,
   "metadata": {},
   "outputs": [],
   "source": [
    "import pandas as pd\n",
    "import numpy as np\n",
    "import sklearn\n",
    "import autofeat as aft"
   ]
  },
  {
   "attachments": {},
   "cell_type": "markdown",
   "metadata": {},
   "source": [
    "# Prepare Dataset"
   ]
  },
  {
   "cell_type": "code",
   "execution_count": 43,
   "metadata": {},
   "outputs": [
    {
     "data": {
      "text/html": [
       "<div>\n",
       "<style scoped>\n",
       "    .dataframe tbody tr th:only-of-type {\n",
       "        vertical-align: middle;\n",
       "    }\n",
       "\n",
       "    .dataframe tbody tr th {\n",
       "        vertical-align: top;\n",
       "    }\n",
       "\n",
       "    .dataframe thead th {\n",
       "        text-align: right;\n",
       "    }\n",
       "</style>\n",
       "<table border=\"1\" class=\"dataframe\">\n",
       "  <thead>\n",
       "    <tr style=\"text-align: right;\">\n",
       "      <th></th>\n",
       "      <th>Month</th>\n",
       "      <th>Sales</th>\n",
       "    </tr>\n",
       "  </thead>\n",
       "  <tbody>\n",
       "    <tr>\n",
       "      <th>0</th>\n",
       "      <td>1-01</td>\n",
       "      <td>266.0</td>\n",
       "    </tr>\n",
       "    <tr>\n",
       "      <th>1</th>\n",
       "      <td>1-02</td>\n",
       "      <td>145.9</td>\n",
       "    </tr>\n",
       "    <tr>\n",
       "      <th>2</th>\n",
       "      <td>1-03</td>\n",
       "      <td>183.1</td>\n",
       "    </tr>\n",
       "    <tr>\n",
       "      <th>3</th>\n",
       "      <td>1-04</td>\n",
       "      <td>119.3</td>\n",
       "    </tr>\n",
       "    <tr>\n",
       "      <th>4</th>\n",
       "      <td>1-05</td>\n",
       "      <td>180.3</td>\n",
       "    </tr>\n",
       "  </tbody>\n",
       "</table>\n",
       "</div>"
      ],
      "text/plain": [
       "  Month  Sales\n",
       "0  1-01  266.0\n",
       "1  1-02  145.9\n",
       "2  1-03  183.1\n",
       "3  1-04  119.3\n",
       "4  1-05  180.3"
      ]
     },
     "execution_count": 43,
     "metadata": {},
     "output_type": "execute_result"
    }
   ],
   "source": [
    "df = pd.read_csv('datasets/shampoo_sales.csv')\n",
    "df.head()"
   ]
  },
  {
   "cell_type": "code",
   "execution_count": null,
   "metadata": {},
   "outputs": [],
   "source": [
    "# Define the target variable to be sales for the next month (t+1)\n",
    "outcome = df['Sales'].shift(-1)\n",
    "outcome.head()"
   ]
  },
  {
   "cell_type": "code",
   "execution_count": 44,
   "metadata": {},
   "outputs": [
    {
     "data": {
      "text/plain": [
       "0    145.9\n",
       "1    183.1\n",
       "2    119.3\n",
       "3    180.3\n",
       "4    168.5\n",
       "Name: Sales, dtype: float64"
      ]
     },
     "execution_count": 44,
     "metadata": {},
     "output_type": "execute_result"
    }
   ],
   "source": [
    "# Create X and y (Use sales from the previous month to predict sales for the current month)\n",
    "X = df.drop(['Sales'], axis=1)\n",
    "y = outcome"
   ]
  },
  {
   "attachments": {},
   "cell_type": "markdown",
   "metadata": {},
   "source": [
    "# Setup Multi-Feature Extractor Pipeline"
   ]
  },
  {
   "attachments": {},
   "cell_type": "markdown",
   "metadata": {},
   "source": [
    "## Sliding Window"
   ]
  },
  {
   "cell_type": "code",
   "execution_count": 36,
   "metadata": {},
   "outputs": [],
   "source": [
    "# Sliding window parameters\n",
    "window_size = 10\n",
    "step_size = 1\n",
    "\n",
    "# Create sliding window\n",
    "window = aft.SlidingWindow(window_size=window_size, step_size=step_size)"
   ]
  },
  {
   "attachments": {},
   "cell_type": "markdown",
   "metadata": {},
   "source": [
    "## Multi-Feature Extractor"
   ]
  },
  {
   "cell_type": "code",
   "execution_count": 37,
   "metadata": {},
   "outputs": [],
   "source": [
    "# Define the transforms\n",
    "transforms = [\n",
    "    aft.MeanTransform(),\n",
    "    aft.VarTransform(),\n",
    "    aft.MinTransform(),\n",
    "    aft.MaxTransform(),\n",
    "    aft.MedianTransform(),\n",
    "]"
   ]
  },
  {
   "attachments": {},
   "cell_type": "markdown",
   "metadata": {},
   "source": [
    "## Pipeline"
   ]
  },
  {
   "cell_type": "code",
   "execution_count": 38,
   "metadata": {},
   "outputs": [],
   "source": [
    "def get_features(data, transforms, window):\n",
    "    \"\"\"\n",
    "    Extract features from data using the given transforms.\n",
    "\n",
    "    Parameters\n",
    "    ----------\n",
    "    data : pandas.DataFrame\n",
    "        Data to extract features from.\n",
    "    \n",
    "    transforms : List(aft.Transform)\n",
    "        List of transforms to apply to data.\n",
    "    \n",
    "    window : aft.SlidingWindow\n",
    "        Sliding window to apply to data.\n",
    "    \n",
    "    Returns\n",
    "    -------\n",
    "    features : pandas.DataFrame\n",
    "        Dataframe containing extracted features.\n",
    "    \"\"\"\n",
    "    features = pd.DataFrame()\n",
    "\n",
    "    # Iterate over each transform\n",
    "    for transform in transforms:\n",
    "        # Get the featurizer\n",
    "        featurizer = window.use(transform)\n",
    "\n",
    "        # Iterate over each column\n",
    "        for col in data.columns:\n",
    "            # Extract feature\n",
    "            feature = featurizer(data[col].to_numpy())\n",
    "\n",
    "            # Add feature to dataframe\n",
    "            features[col + \"_\" + transform.get_name()] = feature\n",
    "\n",
    "    return features"
   ]
  },
  {
   "attachments": {},
   "cell_type": "markdown",
   "metadata": {},
   "source": [
    "# Extract Features"
   ]
  },
  {
   "cell_type": "code",
   "execution_count": 39,
   "metadata": {},
   "outputs": [
    {
     "data": {
      "text/html": [
       "<div>\n",
       "<style scoped>\n",
       "    .dataframe tbody tr th:only-of-type {\n",
       "        vertical-align: middle;\n",
       "    }\n",
       "\n",
       "    .dataframe tbody tr th {\n",
       "        vertical-align: top;\n",
       "    }\n",
       "\n",
       "    .dataframe thead th {\n",
       "        text-align: right;\n",
       "    }\n",
       "</style>\n",
       "<table border=\"1\" class=\"dataframe\">\n",
       "  <thead>\n",
       "    <tr style=\"text-align: right;\">\n",
       "      <th></th>\n",
       "      <th>Sales_Mean</th>\n",
       "      <th>Sales_Variance</th>\n",
       "      <th>Sales_Min</th>\n",
       "      <th>Sales_Max</th>\n",
       "      <th>Sales_Median</th>\n",
       "    </tr>\n",
       "  </thead>\n",
       "  <tbody>\n",
       "    <tr>\n",
       "      <th>0</th>\n",
       "      <td>183.51</td>\n",
       "      <td>2034.9789</td>\n",
       "      <td>119.3</td>\n",
       "      <td>266.0</td>\n",
       "      <td>181.70</td>\n",
       "    </tr>\n",
       "    <tr>\n",
       "      <th>1</th>\n",
       "      <td>190.56</td>\n",
       "      <td>3645.4104</td>\n",
       "      <td>119.3</td>\n",
       "      <td>336.5</td>\n",
       "      <td>181.70</td>\n",
       "    </tr>\n",
       "    <tr>\n",
       "      <th>2</th>\n",
       "      <td>194.56</td>\n",
       "      <td>3432.1304</td>\n",
       "      <td>119.3</td>\n",
       "      <td>336.5</td>\n",
       "      <td>184.50</td>\n",
       "    </tr>\n",
       "    <tr>\n",
       "      <th>3</th>\n",
       "      <td>195.68</td>\n",
       "      <td>3417.7496</td>\n",
       "      <td>119.3</td>\n",
       "      <td>336.5</td>\n",
       "      <td>189.35</td>\n",
       "    </tr>\n",
       "    <tr>\n",
       "      <th>4</th>\n",
       "      <td>198.70</td>\n",
       "      <td>3038.4980</td>\n",
       "      <td>122.9</td>\n",
       "      <td>336.5</td>\n",
       "      <td>189.35</td>\n",
       "    </tr>\n",
       "  </tbody>\n",
       "</table>\n",
       "</div>"
      ],
      "text/plain": [
       "   Sales_Mean  Sales_Variance  Sales_Min  Sales_Max  Sales_Median\n",
       "0      183.51       2034.9789      119.3      266.0        181.70\n",
       "1      190.56       3645.4104      119.3      336.5        181.70\n",
       "2      194.56       3432.1304      119.3      336.5        184.50\n",
       "3      195.68       3417.7496      119.3      336.5        189.35\n",
       "4      198.70       3038.4980      122.9      336.5        189.35"
      ]
     },
     "execution_count": 39,
     "metadata": {},
     "output_type": "execute_result"
    }
   ],
   "source": [
    "extracted_features = get_features(data=df.iloc[:, 1:], transforms=transforms, window=window)\n",
    "extracted_features.head()"
   ]
  },
  {
   "attachments": {},
   "cell_type": "markdown",
   "metadata": {},
   "source": [
    "Concatenate the extracted features with the original data."
   ]
  },
  {
   "cell_type": "code",
   "execution_count": 41,
   "metadata": {},
   "outputs": [
    {
     "data": {
      "text/html": [
       "<div>\n",
       "<style scoped>\n",
       "    .dataframe tbody tr th:only-of-type {\n",
       "        vertical-align: middle;\n",
       "    }\n",
       "\n",
       "    .dataframe tbody tr th {\n",
       "        vertical-align: top;\n",
       "    }\n",
       "\n",
       "    .dataframe thead th {\n",
       "        text-align: right;\n",
       "    }\n",
       "</style>\n",
       "<table border=\"1\" class=\"dataframe\">\n",
       "  <thead>\n",
       "    <tr style=\"text-align: right;\">\n",
       "      <th></th>\n",
       "      <th>Month</th>\n",
       "      <th>Sales</th>\n",
       "      <th>Sales_Mean</th>\n",
       "      <th>Sales_Variance</th>\n",
       "      <th>Sales_Min</th>\n",
       "      <th>Sales_Max</th>\n",
       "      <th>Sales_Median</th>\n",
       "    </tr>\n",
       "  </thead>\n",
       "  <tbody>\n",
       "    <tr>\n",
       "      <th>0</th>\n",
       "      <td>1-01</td>\n",
       "      <td>266.0</td>\n",
       "      <td>183.51</td>\n",
       "      <td>2034.9789</td>\n",
       "      <td>119.3</td>\n",
       "      <td>266.0</td>\n",
       "      <td>181.70</td>\n",
       "    </tr>\n",
       "    <tr>\n",
       "      <th>1</th>\n",
       "      <td>1-02</td>\n",
       "      <td>145.9</td>\n",
       "      <td>190.56</td>\n",
       "      <td>3645.4104</td>\n",
       "      <td>119.3</td>\n",
       "      <td>336.5</td>\n",
       "      <td>181.70</td>\n",
       "    </tr>\n",
       "    <tr>\n",
       "      <th>2</th>\n",
       "      <td>1-03</td>\n",
       "      <td>183.1</td>\n",
       "      <td>194.56</td>\n",
       "      <td>3432.1304</td>\n",
       "      <td>119.3</td>\n",
       "      <td>336.5</td>\n",
       "      <td>184.50</td>\n",
       "    </tr>\n",
       "    <tr>\n",
       "      <th>3</th>\n",
       "      <td>1-04</td>\n",
       "      <td>119.3</td>\n",
       "      <td>195.68</td>\n",
       "      <td>3417.7496</td>\n",
       "      <td>119.3</td>\n",
       "      <td>336.5</td>\n",
       "      <td>189.35</td>\n",
       "    </tr>\n",
       "    <tr>\n",
       "      <th>4</th>\n",
       "      <td>1-05</td>\n",
       "      <td>180.3</td>\n",
       "      <td>198.70</td>\n",
       "      <td>3038.4980</td>\n",
       "      <td>122.9</td>\n",
       "      <td>336.5</td>\n",
       "      <td>189.35</td>\n",
       "    </tr>\n",
       "  </tbody>\n",
       "</table>\n",
       "</div>"
      ],
      "text/plain": [
       "  Month  Sales  Sales_Mean  Sales_Variance  Sales_Min  Sales_Max  Sales_Median\n",
       "0  1-01  266.0      183.51       2034.9789      119.3      266.0        181.70\n",
       "1  1-02  145.9      190.56       3645.4104      119.3      336.5        181.70\n",
       "2  1-03  183.1      194.56       3432.1304      119.3      336.5        184.50\n",
       "3  1-04  119.3      195.68       3417.7496      119.3      336.5        189.35\n",
       "4  1-05  180.3      198.70       3038.4980      122.9      336.5        189.35"
      ]
     },
     "execution_count": 41,
     "metadata": {},
     "output_type": "execute_result"
    }
   ],
   "source": [
    "df_features = pd.concat([df, extracted_features], axis=1)\n",
    "df_features.head()"
   ]
  },
  {
   "attachments": {},
   "cell_type": "markdown",
   "metadata": {},
   "source": [
    "# Fit Data"
   ]
  },
  {
   "attachments": {},
   "cell_type": "markdown",
   "metadata": {},
   "source": [
    "## Split Data"
   ]
  },
  {
   "cell_type": "code",
   "execution_count": null,
   "metadata": {},
   "outputs": [],
   "source": [
    "X_train, X_test, y_train, y_test = sklearn.model_selection.train_test_split(X, y, test_size=0.2)"
   ]
  },
  {
   "attachments": {},
   "cell_type": "markdown",
   "metadata": {},
   "source": [
    "## Fit Model"
   ]
  },
  {
   "cell_type": "code",
   "execution_count": 45,
   "metadata": {},
   "outputs": [
    {
     "ename": "AttributeError",
     "evalue": "module 'sklearn' has no attribute 'linear_model'",
     "output_type": "error",
     "traceback": [
      "\u001b[0;31m---------------------------------------------------------------------------\u001b[0m",
      "\u001b[0;31mAttributeError\u001b[0m                            Traceback (most recent call last)",
      "Cell \u001b[0;32mIn[45], line 1\u001b[0m\n\u001b[0;32m----> 1\u001b[0m model \u001b[39m=\u001b[39m sklearn\u001b[39m.\u001b[39;49mlinear_model\u001b[39m.\u001b[39mLinearRegression()\n",
      "\u001b[0;31mAttributeError\u001b[0m: module 'sklearn' has no attribute 'linear_model'"
     ]
    }
   ],
   "source": [
    "model = sklearn.linear_model.LinearRegression()"
   ]
  },
  {
   "cell_type": "code",
   "execution_count": 46,
   "metadata": {},
   "outputs": [
    {
     "ename": "NameError",
     "evalue": "name 'model' is not defined",
     "output_type": "error",
     "traceback": [
      "\u001b[0;31m---------------------------------------------------------------------------\u001b[0m",
      "\u001b[0;31mNameError\u001b[0m                                 Traceback (most recent call last)",
      "Cell \u001b[0;32mIn[46], line 1\u001b[0m\n\u001b[0;32m----> 1\u001b[0m model\u001b[39m.\u001b[39mfit(X_train, y_train)\n",
      "\u001b[0;31mNameError\u001b[0m: name 'model' is not defined"
     ]
    }
   ],
   "source": [
    "model.fit(X_train, y_train)"
   ]
  },
  {
   "cell_type": "code",
   "execution_count": null,
   "metadata": {},
   "outputs": [],
   "source": []
  }
 ],
 "metadata": {
  "kernelspec": {
   "display_name": ".venv_test",
   "language": "python",
   "name": "python3"
  },
  "language_info": {
   "codemirror_mode": {
    "name": "ipython",
    "version": 3
   },
   "file_extension": ".py",
   "mimetype": "text/x-python",
   "name": "python",
   "nbconvert_exporter": "python",
   "pygments_lexer": "ipython3",
   "version": "3.9.6"
  },
  "orig_nbformat": 4
 },
 "nbformat": 4,
 "nbformat_minor": 2
}
